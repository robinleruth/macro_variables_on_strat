{
 "cells": [
  {
   "cell_type": "code",
   "execution_count": 1,
   "metadata": {
    "collapsed": true
   },
   "outputs": [],
   "source": [
    "import random\n",
    "import pandas as pd\n",
    "import numpy as np\n",
    "import matplotlib.pyplot as plt"
   ]
  },
  {
   "cell_type": "code",
   "execution_count": 3,
   "metadata": {},
   "outputs": [],
   "source": [
    "from sklearn import *\n",
    "from sklearn.metrics import mean_squared_error\n",
    "from sklearn.metrics import mean_absolute_error\n",
    "from sklearn.metrics import r2_score\n",
    "from sklearn.preprocessing import PolynomialFeatures"
   ]
  },
  {
   "cell_type": "code",
   "execution_count": 4,
   "metadata": {
    "collapsed": true
   },
   "outputs": [],
   "source": [
    "inpute = pd.read_csv('Input_hotel.csv', delimiter=\";\", decimal=\",\")\n",
    "del inpute['observation_date']"
   ]
  },
  {
   "cell_type": "code",
   "execution_count": 5,
   "metadata": {
    "collapsed": true
   },
   "outputs": [],
   "source": [
    "INDPRO = inpute['INDPRO']\n",
    "M1 = inpute['M1']\n",
    "InfRate = inpute['Inflation rate']\n",
    "household = inpute['household final consumption']\n",
    "intRate = inpute['Interest rate']\n",
    "y = inpute['Hotel & Restaurant']\n",
    "tab = [INDPRO, M1, InfRate, household, intRate, y]\n",
    "tab_name = [\"INDPRO\",\"M1\", \"Inflation rate\", \"household final consumption\", \"Interest rate\", \"Hotel & Restaurant\"]"
   ]
  },
  {
   "cell_type": "code",
   "execution_count": 6,
   "metadata": {
    "collapsed": true
   },
   "outputs": [],
   "source": [
    "df_first_difference = pd.DataFrame()\n",
    "i = 0\n",
    "for a in tab:\n",
    "    b = a.shift(1)\n",
    "    first_diff = a - b\n",
    "    df_first_difference[tab_name[i]] = first_diff\n",
    "    i += 1\n",
    "df_first_difference =  df_first_difference[1:]"
   ]
  },
  {
   "cell_type": "markdown",
   "metadata": {},
   "source": [
    "# Modèles sur courbe"
   ]
  },
  {
   "cell_type": "code",
   "execution_count": 7,
   "metadata": {
    "collapsed": true
   },
   "outputs": [],
   "source": [
    "inpute_train = inpute[:93]\n",
    "inpute_test = inpute[93:]"
   ]
  },
  {
   "cell_type": "markdown",
   "metadata": {},
   "source": [
    "## OLS"
   ]
  },
  {
   "cell_type": "code",
   "execution_count": 10,
   "metadata": {},
   "outputs": [
    {
     "data": {
      "image/png": "[encoded data removed]",
      "text/plain": [
       "<matplotlib.figure.Figure at 0x7fe1a0982390>"
      ]
     },
     "metadata": {},
     "output_type": "display_data"
    }
   ],
   "source": [
    "reg = linear_model.LinearRegression()\n",
    "y = inpute_train['Hotel & Restaurant']\n",
    "x = inpute_train.drop(['Hotel & Restaurant'], axis=1)\n",
    "reg.fit(x,y)\n",
    "reg.score(x,y)\n",
    "y_test = inpute_test['Hotel & Restaurant']\n",
    "x_test = inpute_test.drop(['Hotel & Restaurant'], axis=1)\n",
    "pred = reg.predict(x_test)\n",
    "y_test = y_test.reset_index()['Hotel & Restaurant']\n",
    "plt.plot(y_test, 'r', label='y_test')\n",
    "plt.plot(pred, 'b', label='Prédiction')\n",
    "plt.legend()\n",
    "plt.show()"
   ]
  },
  {
   "cell_type": "code",
   "execution_count": 11,
   "metadata": {
    "collapsed": true
   },
   "outputs": [],
   "source": [
    "a = pd.Series([mean_squared_error(y_test, pred), mean_absolute_error(y_test, pred), r2_score(y_test, pred)])\n",
    "b = pd.DataFrame(data=[a])\n",
    "b.columns = ['mse', 'mae', 'r2']"
   ]
  },
  {
   "cell_type": "code",
   "execution_count": 12,
   "metadata": {},
   "outputs": [
    {
     "data": {
      "text/html": [
       "<div>\n",
       "<style scoped>\n",
       "    .dataframe tbody tr th:only-of-type {\n",
       "        vertical-align: middle;\n",
       "    }\n",
       "\n",
       "    .dataframe tbody tr th {\n",
       "        vertical-align: top;\n",
       "    }\n",
       "\n",
       "    .dataframe thead th {\n",
       "        text-align: right;\n",
       "    }\n",
       "</style>\n",
       "<table border=\"1\" class=\"dataframe\">\n",
       "  <thead>\n",
       "    <tr style=\"text-align: right;\">\n",
       "      <th></th>\n",
       "      <th>mse</th>\n",
       "      <th>mae</th>\n",
       "      <th>r2</th>\n",
       "    </tr>\n",
       "  </thead>\n",
       "  <tbody>\n",
       "    <tr>\n",
       "      <th>0</th>\n",
       "      <td>790.304541</td>\n",
       "      <td>23.322948</td>\n",
       "      <td>-0.060564</td>\n",
       "    </tr>\n",
       "  </tbody>\n",
       "</table>\n",
       "</div>"
      ],
      "text/plain": [
       "          mse        mae        r2\n",
       "0  790.304541  23.322948 -0.060564"
      ]
     },
     "execution_count": 12,
     "metadata": {},
     "output_type": "execute_result"
    }
   ],
   "source": [
    "b"
   ]
  },
  {
   "cell_type": "markdown",
   "metadata": {},
   "source": [
    "## Lasso"
   ]
  },
  {
   "cell_type": "code",
   "execution_count": 14,
   "metadata": {},
   "outputs": [
    {
     "data": {
      "image/png": "[encoded data removed]",
      "text/plain": [
       "<matplotlib.figure.Figure at 0x7fe1a0c03048>"
      ]
     },
     "metadata": {},
     "output_type": "display_data"
    }
   ],
   "source": [
    "reg = linear_model.Lasso(alpha=0.1)\n",
    "y = inpute_train['Hotel & Restaurant']\n",
    "x = inpute_train.drop(['Hotel & Restaurant'], axis=1)\n",
    "reg.fit(x,y)\n",
    "reg.score(x,y)\n",
    "y_test = inpute_test['Hotel & Restaurant']\n",
    "x_test = inpute_test.drop(['Hotel & Restaurant'], axis=1)\n",
    "pred = reg.predict(x_test)\n",
    "y_test = y_test.reset_index()['Hotel & Restaurant']\n",
    "plt.plot(y_test, 'r', label='y_test')\n",
    "plt.plot(pred, 'b', label='Prédiction')\n",
    "plt.legend()\n",
    "plt.show()"
   ]
  },
  {
   "cell_type": "code",
   "execution_count": 15,
   "metadata": {
    "collapsed": true
   },
   "outputs": [],
   "source": [
    "a = pd.Series([mean_squared_error(y_test, pred), mean_absolute_error(y_test, pred), r2_score(y_test, pred)])\n",
    "b = pd.DataFrame(data=[a])\n",
    "b.columns = ['mse', 'mae', 'r2']"
   ]
  },
  {
   "cell_type": "code",
   "execution_count": 16,
   "metadata": {},
   "outputs": [
    {
     "data": {
      "text/html": [
       "<div>\n",
       "<style scoped>\n",
       "    .dataframe tbody tr th:only-of-type {\n",
       "        vertical-align: middle;\n",
       "    }\n",
       "\n",
       "    .dataframe tbody tr th {\n",
       "        vertical-align: top;\n",
       "    }\n",
       "\n",
       "    .dataframe thead th {\n",
       "        text-align: right;\n",
       "    }\n",
       "</style>\n",
       "<table border=\"1\" class=\"dataframe\">\n",
       "  <thead>\n",
       "    <tr style=\"text-align: right;\">\n",
       "      <th></th>\n",
       "      <th>mse</th>\n",
       "      <th>mae</th>\n",
       "      <th>r2</th>\n",
       "    </tr>\n",
       "  </thead>\n",
       "  <tbody>\n",
       "    <tr>\n",
       "      <th>0</th>\n",
       "      <td>430.850262</td>\n",
       "      <td>17.199804</td>\n",
       "      <td>0.421812</td>\n",
       "    </tr>\n",
       "  </tbody>\n",
       "</table>\n",
       "</div>"
      ],
      "text/plain": [
       "          mse        mae        r2\n",
       "0  430.850262  17.199804  0.421812"
      ]
     },
     "execution_count": 16,
     "metadata": {},
     "output_type": "execute_result"
    }
   ],
   "source": [
    "b"
   ]
  },
  {
   "cell_type": "markdown",
   "metadata": {},
   "source": [
    "## Ridge"
   ]
  },
  {
   "cell_type": "code",
   "execution_count": 17,
   "metadata": {},
   "outputs": [
    {
     "data": {
      "image/png": "[encoded data removed]",
      "text/plain": [
       "<matplotlib.figure.Figure at 0x7fe1a0c030b8>"
      ]
     },
     "metadata": {},
     "output_type": "display_data"
    }
   ],
   "source": [
    "reg = linear_model.Ridge(alpha=0.1)\n",
    "y = inpute_train['Hotel & Restaurant']\n",
    "x = inpute_train.drop(['Hotel & Restaurant'], axis=1)\n",
    "reg.fit(x,y)\n",
    "temp = reg.score(x,y)\n",
    "y_test = inpute_test['Hotel & Restaurant']\n",
    "x_test = inpute_test.drop(['Hotel & Restaurant'], axis=1)\n",
    "pred = reg.predict(x_test)\n",
    "y_test = y_test.reset_index()['Hotel & Restaurant']\n",
    "plt.plot(y_test, 'r', label='y_test')\n",
    "plt.plot(pred, 'b', label='Prédiction')\n",
    "plt.legend()\n",
    "plt.show()"
   ]
  },
  {
   "cell_type": "code",
   "execution_count": 18,
   "metadata": {
    "collapsed": true
   },
   "outputs": [],
   "source": [
    "a = pd.Series([mean_squared_error(y_test, pred), mean_absolute_error(y_test, pred), r2_score(y_test, pred)])\n",
    "b = pd.DataFrame(data=[a])\n",
    "b.columns = ['mse', 'mae', 'r2']"
   ]
  },
  {
   "cell_type": "code",
   "execution_count": 19,
   "metadata": {},
   "outputs": [
    {
     "data": {
      "text/html": [
       "<div>\n",
       "<style scoped>\n",
       "    .dataframe tbody tr th:only-of-type {\n",
       "        vertical-align: middle;\n",
       "    }\n",
       "\n",
       "    .dataframe tbody tr th {\n",
       "        vertical-align: top;\n",
       "    }\n",
       "\n",
       "    .dataframe thead th {\n",
       "        text-align: right;\n",
       "    }\n",
       "</style>\n",
       "<table border=\"1\" class=\"dataframe\">\n",
       "  <thead>\n",
       "    <tr style=\"text-align: right;\">\n",
       "      <th></th>\n",
       "      <th>mse</th>\n",
       "      <th>mae</th>\n",
       "      <th>r2</th>\n",
       "    </tr>\n",
       "  </thead>\n",
       "  <tbody>\n",
       "    <tr>\n",
       "      <th>0</th>\n",
       "      <td>449.91747</td>\n",
       "      <td>17.589908</td>\n",
       "      <td>0.396225</td>\n",
       "    </tr>\n",
       "  </tbody>\n",
       "</table>\n",
       "</div>"
      ],
      "text/plain": [
       "         mse        mae        r2\n",
       "0  449.91747  17.589908  0.396225"
      ]
     },
     "execution_count": 19,
     "metadata": {},
     "output_type": "execute_result"
    }
   ],
   "source": [
    "b"
   ]
  },
  {
   "cell_type": "markdown",
   "metadata": {},
   "source": [
    "## Corrélation entre variables"
   ]
  },
  {
   "cell_type": "code",
   "execution_count": 20,
   "metadata": {},
   "outputs": [
    {
     "data": {
      "text/html": [
       "<div>\n",
       "<style scoped>\n",
       "    .dataframe tbody tr th:only-of-type {\n",
       "        vertical-align: middle;\n",
       "    }\n",
       "\n",
       "    .dataframe tbody tr th {\n",
       "        vertical-align: top;\n",
       "    }\n",
       "\n",
       "    .dataframe thead th {\n",
       "        text-align: right;\n",
       "    }\n",
       "</style>\n",
       "<table border=\"1\" class=\"dataframe\">\n",
       "  <thead>\n",
       "    <tr style=\"text-align: right;\">\n",
       "      <th></th>\n",
       "      <th>INDPRO</th>\n",
       "      <th>M1</th>\n",
       "      <th>Inflation rate</th>\n",
       "      <th>household final consumption</th>\n",
       "      <th>Interest rate</th>\n",
       "      <th>Hotel &amp; Restaurant</th>\n",
       "    </tr>\n",
       "  </thead>\n",
       "  <tbody>\n",
       "    <tr>\n",
       "      <th>INDPRO</th>\n",
       "      <td>1.000000</td>\n",
       "      <td>0.695322</td>\n",
       "      <td>0.241420</td>\n",
       "      <td>-0.395673</td>\n",
       "      <td>-0.662551</td>\n",
       "      <td>0.764590</td>\n",
       "    </tr>\n",
       "    <tr>\n",
       "      <th>M1</th>\n",
       "      <td>0.695322</td>\n",
       "      <td>1.000000</td>\n",
       "      <td>-0.257601</td>\n",
       "      <td>-0.292439</td>\n",
       "      <td>-0.571007</td>\n",
       "      <td>0.969156</td>\n",
       "    </tr>\n",
       "    <tr>\n",
       "      <th>Inflation rate</th>\n",
       "      <td>0.241420</td>\n",
       "      <td>-0.257601</td>\n",
       "      <td>1.000000</td>\n",
       "      <td>0.148778</td>\n",
       "      <td>-0.080642</td>\n",
       "      <td>-0.194439</td>\n",
       "    </tr>\n",
       "    <tr>\n",
       "      <th>household final consumption</th>\n",
       "      <td>-0.395673</td>\n",
       "      <td>-0.292439</td>\n",
       "      <td>0.148778</td>\n",
       "      <td>1.000000</td>\n",
       "      <td>0.524354</td>\n",
       "      <td>-0.282253</td>\n",
       "    </tr>\n",
       "    <tr>\n",
       "      <th>Interest rate</th>\n",
       "      <td>-0.662551</td>\n",
       "      <td>-0.571007</td>\n",
       "      <td>-0.080642</td>\n",
       "      <td>0.524354</td>\n",
       "      <td>1.000000</td>\n",
       "      <td>-0.545491</td>\n",
       "    </tr>\n",
       "    <tr>\n",
       "      <th>Hotel &amp; Restaurant</th>\n",
       "      <td>0.764590</td>\n",
       "      <td>0.969156</td>\n",
       "      <td>-0.194439</td>\n",
       "      <td>-0.282253</td>\n",
       "      <td>-0.545491</td>\n",
       "      <td>1.000000</td>\n",
       "    </tr>\n",
       "  </tbody>\n",
       "</table>\n",
       "</div>"
      ],
      "text/plain": [
       "                               INDPRO        M1  Inflation rate  \\\n",
       "INDPRO                       1.000000  0.695322        0.241420   \n",
       "M1                           0.695322  1.000000       -0.257601   \n",
       "Inflation rate               0.241420 -0.257601        1.000000   \n",
       "household final consumption -0.395673 -0.292439        0.148778   \n",
       "Interest rate               -0.662551 -0.571007       -0.080642   \n",
       "Hotel & Restaurant           0.764590  0.969156       -0.194439   \n",
       "\n",
       "                             household final consumption  Interest rate  \\\n",
       "INDPRO                                         -0.395673      -0.662551   \n",
       "M1                                             -0.292439      -0.571007   \n",
       "Inflation rate                                  0.148778      -0.080642   \n",
       "household final consumption                     1.000000       0.524354   \n",
       "Interest rate                                   0.524354       1.000000   \n",
       "Hotel & Restaurant                             -0.282253      -0.545491   \n",
       "\n",
       "                             Hotel & Restaurant  \n",
       "INDPRO                                 0.764590  \n",
       "M1                                     0.969156  \n",
       "Inflation rate                        -0.194439  \n",
       "household final consumption           -0.282253  \n",
       "Interest rate                         -0.545491  \n",
       "Hotel & Restaurant                     1.000000  "
      ]
     },
     "execution_count": 20,
     "metadata": {},
     "output_type": "execute_result"
    }
   ],
   "source": [
    "inpute.corr()"
   ]
  },
  {
   "cell_type": "markdown",
   "metadata": {},
   "source": [
    "# Modèles sur première différence"
   ]
  },
  {
   "cell_type": "code",
   "execution_count": 21,
   "metadata": {
    "collapsed": true
   },
   "outputs": [],
   "source": [
    "df_first_diff_train = df_first_difference[:93]\n",
    "df_first_diff_test = df_first_difference[93:]"
   ]
  },
  {
   "cell_type": "markdown",
   "metadata": {},
   "source": [
    "## OLS"
   ]
  },
  {
   "cell_type": "code",
   "execution_count": 23,
   "metadata": {},
   "outputs": [
    {
     "data": {
      "image/png": "[encoded data removed]",
      "text/plain": [
       "<matplotlib.figure.Figure at 0x7fe1a0a166a0>"
      ]
     },
     "metadata": {},
     "output_type": "display_data"
    }
   ],
   "source": [
    "reg = linear_model.LinearRegression()\n",
    "y = df_first_diff_train['Hotel & Restaurant']\n",
    "x = df_first_diff_train.drop(['Hotel & Restaurant'], axis=1)\n",
    "reg.fit(x,y)\n",
    "reg.score(x,y)\n",
    "y_test = df_first_diff_test['Hotel & Restaurant']\n",
    "x_test = df_first_diff_test.drop(['Hotel & Restaurant'], axis=1)\n",
    "pred = reg.predict(x_test)\n",
    "y_test = y_test.reset_index()['Hotel & Restaurant']\n",
    "plt.plot(y_test, 'r', label='y_test')\n",
    "plt.plot(pred, 'b', label='Prédiction')\n",
    "plt.legend()\n",
    "plt.show()"
   ]
  },
  {
   "cell_type": "code",
   "execution_count": 24,
   "metadata": {
    "collapsed": true
   },
   "outputs": [],
   "source": [
    "a = pd.Series([mean_squared_error(y_test, pred), mean_absolute_error(y_test, pred), r2_score(y_test, pred)])\n",
    "b = pd.DataFrame(data=[a])\n",
    "b.columns = ['mse', 'mae', 'r2']"
   ]
  },
  {
   "cell_type": "code",
   "execution_count": 25,
   "metadata": {},
   "outputs": [
    {
     "data": {
      "text/html": [
       "<div>\n",
       "<style scoped>\n",
       "    .dataframe tbody tr th:only-of-type {\n",
       "        vertical-align: middle;\n",
       "    }\n",
       "\n",
       "    .dataframe tbody tr th {\n",
       "        vertical-align: top;\n",
       "    }\n",
       "\n",
       "    .dataframe thead th {\n",
       "        text-align: right;\n",
       "    }\n",
       "</style>\n",
       "<table border=\"1\" class=\"dataframe\">\n",
       "  <thead>\n",
       "    <tr style=\"text-align: right;\">\n",
       "      <th></th>\n",
       "      <th>mse</th>\n",
       "      <th>mae</th>\n",
       "      <th>r2</th>\n",
       "    </tr>\n",
       "  </thead>\n",
       "  <tbody>\n",
       "    <tr>\n",
       "      <th>0</th>\n",
       "      <td>141.980409</td>\n",
       "      <td>10.243264</td>\n",
       "      <td>-0.004419</td>\n",
       "    </tr>\n",
       "  </tbody>\n",
       "</table>\n",
       "</div>"
      ],
      "text/plain": [
       "          mse        mae        r2\n",
       "0  141.980409  10.243264 -0.004419"
      ]
     },
     "execution_count": 25,
     "metadata": {},
     "output_type": "execute_result"
    }
   ],
   "source": [
    "b"
   ]
  },
  {
   "cell_type": "markdown",
   "metadata": {},
   "source": [
    "## Ridge"
   ]
  },
  {
   "cell_type": "code",
   "execution_count": 26,
   "metadata": {},
   "outputs": [
    {
     "data": {
      "image/png": "[encoded data removed]",
      "text/plain": [
       "<matplotlib.figure.Figure at 0x7fe1a128d748>"
      ]
     },
     "metadata": {},
     "output_type": "display_data"
    }
   ],
   "source": [
    "reg = linear_model.Ridge(alpha = 0.1)\n",
    "y = df_first_diff_train['Hotel & Restaurant']\n",
    "x = df_first_diff_train.drop(['Hotel & Restaurant'], axis=1)\n",
    "reg.fit(x,y)\n",
    "reg.score(x,y)\n",
    "y_test = df_first_diff_test['Hotel & Restaurant']\n",
    "x_test = df_first_diff_test.drop(['Hotel & Restaurant'], axis=1)\n",
    "pred = reg.predict(x_test)\n",
    "y_test = y_test.reset_index()['Hotel & Restaurant']\n",
    "plt.plot(y_test, 'r', label='y_test')\n",
    "plt.plot(pred, 'b', label='Prédiction')\n",
    "plt.legend()\n",
    "plt.show()"
   ]
  },
  {
   "cell_type": "code",
   "execution_count": 27,
   "metadata": {
    "collapsed": true
   },
   "outputs": [],
   "source": [
    "a = pd.Series([mean_squared_error(y_test, pred), mean_absolute_error(y_test, pred), r2_score(y_test, pred)])\n",
    "b = pd.DataFrame(data=[a])\n",
    "b.columns = ['mse', 'mae', 'r2']"
   ]
  },
  {
   "cell_type": "code",
   "execution_count": 28,
   "metadata": {},
   "outputs": [
    {
     "data": {
      "text/html": [
       "<div>\n",
       "<style scoped>\n",
       "    .dataframe tbody tr th:only-of-type {\n",
       "        vertical-align: middle;\n",
       "    }\n",
       "\n",
       "    .dataframe tbody tr th {\n",
       "        vertical-align: top;\n",
       "    }\n",
       "\n",
       "    .dataframe thead th {\n",
       "        text-align: right;\n",
       "    }\n",
       "</style>\n",
       "<table border=\"1\" class=\"dataframe\">\n",
       "  <thead>\n",
       "    <tr style=\"text-align: right;\">\n",
       "      <th></th>\n",
       "      <th>mse</th>\n",
       "      <th>mae</th>\n",
       "      <th>r2</th>\n",
       "    </tr>\n",
       "  </thead>\n",
       "  <tbody>\n",
       "    <tr>\n",
       "      <th>0</th>\n",
       "      <td>144.439655</td>\n",
       "      <td>10.381544</td>\n",
       "      <td>-0.021817</td>\n",
       "    </tr>\n",
       "  </tbody>\n",
       "</table>\n",
       "</div>"
      ],
      "text/plain": [
       "          mse        mae        r2\n",
       "0  144.439655  10.381544 -0.021817"
      ]
     },
     "execution_count": 28,
     "metadata": {},
     "output_type": "execute_result"
    }
   ],
   "source": [
    "b"
   ]
  },
  {
   "cell_type": "markdown",
   "metadata": {},
   "source": [
    "## Lasso"
   ]
  },
  {
   "cell_type": "code",
   "execution_count": 30,
   "metadata": {},
   "outputs": [
    {
     "data": {
      "image/png": "[encoded data removed]",
      "text/plain": [
       "<matplotlib.figure.Figure at 0x7fe1a0b3fb38>"
      ]
     },
     "metadata": {},
     "output_type": "display_data"
    }
   ],
   "source": [
    "reg = linear_model.Lasso(alpha = 0.1)\n",
    "y = df_first_diff_train['Hotel & Restaurant']\n",
    "x = df_first_diff_train.drop(['Hotel & Restaurant'], axis=1)\n",
    "reg.fit(x,y)\n",
    "reg.score(x,y)\n",
    "y_test = df_first_diff_test['Hotel & Restaurant']\n",
    "x_test = df_first_diff_test.drop(['Hotel & Restaurant'], axis=1)\n",
    "pred = reg.predict(x_test)\n",
    "y_test = y_test.reset_index()['Hotel & Restaurant']\n",
    "plt.plot(y_test, 'r', label='y_test')\n",
    "plt.plot(pred, 'b', label='Prédiction')\n",
    "plt.legend()\n",
    "plt.show()"
   ]
  },
  {
   "cell_type": "code",
   "execution_count": 31,
   "metadata": {
    "collapsed": true
   },
   "outputs": [],
   "source": [
    "a = pd.Series([mean_squared_error(y_test, pred), mean_absolute_error(y_test, pred), r2_score(y_test, pred)])\n",
    "b = pd.DataFrame(data=[a])\n",
    "b.columns = ['mse', 'mae', 'r2']"
   ]
  },
  {
   "cell_type": "code",
   "execution_count": 32,
   "metadata": {},
   "outputs": [
    {
     "data": {
      "text/html": [
       "<div>\n",
       "<style scoped>\n",
       "    .dataframe tbody tr th:only-of-type {\n",
       "        vertical-align: middle;\n",
       "    }\n",
       "\n",
       "    .dataframe tbody tr th {\n",
       "        vertical-align: top;\n",
       "    }\n",
       "\n",
       "    .dataframe thead th {\n",
       "        text-align: right;\n",
       "    }\n",
       "</style>\n",
       "<table border=\"1\" class=\"dataframe\">\n",
       "  <thead>\n",
       "    <tr style=\"text-align: right;\">\n",
       "      <th></th>\n",
       "      <th>mse</th>\n",
       "      <th>mae</th>\n",
       "      <th>r2</th>\n",
       "    </tr>\n",
       "  </thead>\n",
       "  <tbody>\n",
       "    <tr>\n",
       "      <th>0</th>\n",
       "      <td>143.372569</td>\n",
       "      <td>10.354982</td>\n",
       "      <td>-0.014268</td>\n",
       "    </tr>\n",
       "  </tbody>\n",
       "</table>\n",
       "</div>"
      ],
      "text/plain": [
       "          mse        mae        r2\n",
       "0  143.372569  10.354982 -0.014268"
      ]
     },
     "execution_count": 32,
     "metadata": {},
     "output_type": "execute_result"
    }
   ],
   "source": [
    "b"
   ]
  },
  {
   "cell_type": "markdown",
   "metadata": {},
   "source": [
    "## Gradient boosting"
   ]
  },
  {
   "cell_type": "code",
   "execution_count": 33,
   "metadata": {},
   "outputs": [
    {
     "data": {
      "image/png": "[encoded data removed]",
      "text/plain": [
       "<matplotlib.figure.Figure at 0x7fe1a0bd6710>"
      ]
     },
     "metadata": {},
     "output_type": "display_data"
    }
   ],
   "source": [
    "from sklearn import ensemble\n",
    "from sklearn import datasets\n",
    "from sklearn.utils import shuffle\n",
    "from sklearn.metrics import mean_squared_error\n",
    "\n",
    "params = {'n_estimators': 100, 'max_depth': 4, 'min_samples_split': 5,\n",
    "          'learning_rate': 0.01, 'loss': 'ls'}\n",
    "clf = ensemble.GradientBoostingRegressor(**params)\n",
    "clf.fit(x, y)\n",
    "nouveau = clf.predict(x_test)\n",
    "plt.plot(y_test, 'r', label='y_test')\n",
    "plt.plot(nouveau, 'b', label='Prédiction')\n",
    "plt.legend()\n",
    "plt.show()"
   ]
  },
  {
   "cell_type": "code",
   "execution_count": 34,
   "metadata": {
    "collapsed": true
   },
   "outputs": [],
   "source": [
    "a = pd.Series([mean_squared_error(y_test, nouveau), mean_absolute_error(y_test, nouveau), r2_score(y_test, nouveau)])\n",
    "b = pd.DataFrame(data=[a])\n",
    "b.columns = ['mse', 'mae', 'r2']"
   ]
  },
  {
   "cell_type": "code",
   "execution_count": 35,
   "metadata": {},
   "outputs": [
    {
     "data": {
      "text/html": [
       "<div>\n",
       "<style scoped>\n",
       "    .dataframe tbody tr th:only-of-type {\n",
       "        vertical-align: middle;\n",
       "    }\n",
       "\n",
       "    .dataframe tbody tr th {\n",
       "        vertical-align: top;\n",
       "    }\n",
       "\n",
       "    .dataframe thead th {\n",
       "        text-align: right;\n",
       "    }\n",
       "</style>\n",
       "<table border=\"1\" class=\"dataframe\">\n",
       "  <thead>\n",
       "    <tr style=\"text-align: right;\">\n",
       "      <th></th>\n",
       "      <th>mse</th>\n",
       "      <th>mae</th>\n",
       "      <th>r2</th>\n",
       "    </tr>\n",
       "  </thead>\n",
       "  <tbody>\n",
       "    <tr>\n",
       "      <th>0</th>\n",
       "      <td>145.979602</td>\n",
       "      <td>9.861364</td>\n",
       "      <td>-0.032711</td>\n",
       "    </tr>\n",
       "  </tbody>\n",
       "</table>\n",
       "</div>"
      ],
      "text/plain": [
       "          mse       mae        r2\n",
       "0  145.979602  9.861364 -0.032711"
      ]
     },
     "execution_count": 35,
     "metadata": {},
     "output_type": "execute_result"
    }
   ],
   "source": [
    "b"
   ]
  },
  {
   "cell_type": "markdown",
   "metadata": {},
   "source": [
    "## Grid search"
   ]
  },
  {
   "cell_type": "code",
   "execution_count": 111,
   "metadata": {},
   "outputs": [
    {
     "name": "stdout",
     "output_type": "stream",
     "text": [
      "--\n"
     ]
    }
   ],
   "source": [
    "from sklearn.model_selection import GridSearchCV\n",
    "params = {'n_estimators': range(100,500,50), 'max_depth': [4,8], 'min_samples_split': [2,5],\n",
    "          'learning_rate': [0.01,0.05] }\n",
    "clf = ensemble.GradientBoostingRegressor(random_state=1)\n",
    "clf.fit(x, y)\n",
    "clf_gss=GridSearchCV(clf, params,scoring = 'r2',cv=5)\n",
    "clf_gss.fit(x,y)\n",
    "print('--')"
   ]
  },
  {
   "cell_type": "code",
   "execution_count": 112,
   "metadata": {},
   "outputs": [
    {
     "data": {
      "text/plain": [
       "GradientBoostingRegressor(alpha=0.9, criterion='friedman_mse', init=None,\n",
       "             learning_rate=0.01, loss='ls', max_depth=4, max_features=None,\n",
       "             max_leaf_nodes=None, min_impurity_decrease=0.0,\n",
       "             min_impurity_split=None, min_samples_leaf=1,\n",
       "             min_samples_split=5, min_weight_fraction_leaf=0.0,\n",
       "             n_estimators=100, presort='auto', random_state=1,\n",
       "             subsample=1.0, verbose=0, warm_start=False)"
      ]
     },
     "execution_count": 112,
     "metadata": {},
     "output_type": "execute_result"
    }
   ],
   "source": [
    "clf_gss.best_estimator_"
   ]
  },
  {
   "cell_type": "markdown",
   "metadata": {},
   "source": [
    "## Corrélation entre variables"
   ]
  },
  {
   "cell_type": "code",
   "execution_count": 55,
   "metadata": {},
   "outputs": [
    {
     "data": {
      "text/html": [
       "<div>\n",
       "<style scoped>\n",
       "    .dataframe tbody tr th:only-of-type {\n",
       "        vertical-align: middle;\n",
       "    }\n",
       "\n",
       "    .dataframe tbody tr th {\n",
       "        vertical-align: top;\n",
       "    }\n",
       "\n",
       "    .dataframe thead th {\n",
       "        text-align: right;\n",
       "    }\n",
       "</style>\n",
       "<table border=\"1\" class=\"dataframe\">\n",
       "  <thead>\n",
       "    <tr style=\"text-align: right;\">\n",
       "      <th></th>\n",
       "      <th>INDPRO</th>\n",
       "      <th>M1</th>\n",
       "      <th>Inflation rate</th>\n",
       "      <th>household final consumption</th>\n",
       "      <th>Interest rate</th>\n",
       "      <th>Hotel &amp; Restaurant</th>\n",
       "    </tr>\n",
       "  </thead>\n",
       "  <tbody>\n",
       "    <tr>\n",
       "      <th>INDPRO</th>\n",
       "      <td>1.000000</td>\n",
       "      <td>0.214082</td>\n",
       "      <td>0.211278</td>\n",
       "      <td>-0.134186</td>\n",
       "      <td>0.012748</td>\n",
       "      <td>0.095214</td>\n",
       "    </tr>\n",
       "    <tr>\n",
       "      <th>M1</th>\n",
       "      <td>0.214082</td>\n",
       "      <td>1.000000</td>\n",
       "      <td>-0.000156</td>\n",
       "      <td>-0.003756</td>\n",
       "      <td>-0.155321</td>\n",
       "      <td>-0.004579</td>\n",
       "    </tr>\n",
       "    <tr>\n",
       "      <th>Inflation rate</th>\n",
       "      <td>0.211278</td>\n",
       "      <td>-0.000156</td>\n",
       "      <td>1.000000</td>\n",
       "      <td>0.052732</td>\n",
       "      <td>-0.028370</td>\n",
       "      <td>0.062011</td>\n",
       "    </tr>\n",
       "    <tr>\n",
       "      <th>household final consumption</th>\n",
       "      <td>-0.134186</td>\n",
       "      <td>-0.003756</td>\n",
       "      <td>0.052732</td>\n",
       "      <td>1.000000</td>\n",
       "      <td>0.020940</td>\n",
       "      <td>-0.031661</td>\n",
       "    </tr>\n",
       "    <tr>\n",
       "      <th>Interest rate</th>\n",
       "      <td>0.012748</td>\n",
       "      <td>-0.155321</td>\n",
       "      <td>-0.028370</td>\n",
       "      <td>0.020940</td>\n",
       "      <td>1.000000</td>\n",
       "      <td>0.181195</td>\n",
       "    </tr>\n",
       "    <tr>\n",
       "      <th>Hotel &amp; Restaurant</th>\n",
       "      <td>0.095214</td>\n",
       "      <td>-0.004579</td>\n",
       "      <td>0.062011</td>\n",
       "      <td>-0.031661</td>\n",
       "      <td>0.181195</td>\n",
       "      <td>1.000000</td>\n",
       "    </tr>\n",
       "  </tbody>\n",
       "</table>\n",
       "</div>"
      ],
      "text/plain": [
       "                               INDPRO        M1  Inflation rate  \\\n",
       "INDPRO                       1.000000  0.214082        0.211278   \n",
       "M1                           0.214082  1.000000       -0.000156   \n",
       "Inflation rate               0.211278 -0.000156        1.000000   \n",
       "household final consumption -0.134186 -0.003756        0.052732   \n",
       "Interest rate                0.012748 -0.155321       -0.028370   \n",
       "Hotel & Restaurant           0.095214 -0.004579        0.062011   \n",
       "\n",
       "                             household final consumption  Interest rate  \\\n",
       "INDPRO                                         -0.134186       0.012748   \n",
       "M1                                             -0.003756      -0.155321   \n",
       "Inflation rate                                  0.052732      -0.028370   \n",
       "household final consumption                     1.000000       0.020940   \n",
       "Interest rate                                   0.020940       1.000000   \n",
       "Hotel & Restaurant                             -0.031661       0.181195   \n",
       "\n",
       "                             Hotel & Restaurant  \n",
       "INDPRO                                 0.095214  \n",
       "M1                                    -0.004579  \n",
       "Inflation rate                         0.062011  \n",
       "household final consumption           -0.031661  \n",
       "Interest rate                          0.181195  \n",
       "Hotel & Restaurant                     1.000000  "
      ]
     },
     "execution_count": 55,
     "metadata": {},
     "output_type": "execute_result"
    }
   ],
   "source": [
    "df_first_difference.corr()"
   ]
  },
  {
   "cell_type": "markdown",
   "metadata": {},
   "source": [
    "# Modèle sur première différence des ln"
   ]
  },
  {
   "cell_type": "code",
   "execution_count": 37,
   "metadata": {},
   "outputs": [
    {
     "name": "stderr",
     "output_type": "stream",
     "text": [
      "/usr/lib/python3.6/site-packages/ipykernel_launcher.py:4: RuntimeWarning: invalid value encountered in log\n",
      "  after removing the cwd from sys.path.\n"
     ]
    }
   ],
   "source": [
    "df_first_difference_ln = pd.DataFrame()\n",
    "i = 0\n",
    "for a in tab:\n",
    "    a_ln = np.log(a)\n",
    "    b = a_ln.shift(1)\n",
    "    first_diff = a_ln - b\n",
    "    df_first_difference_ln[tab_name[i]] = first_diff\n",
    "    i += 1\n",
    "df_first_difference_ln =  df_first_difference_ln[1:]"
   ]
  },
  {
   "cell_type": "code",
   "execution_count": 38,
   "metadata": {
    "collapsed": true
   },
   "outputs": [],
   "source": [
    "df_first_difference_ln = df_first_difference_ln.drop(['household final consumption'], axis=1)\n",
    "df_first_difference_ln = df_first_difference_ln.drop(['Inflation rate'], axis=1)"
   ]
  },
  {
   "cell_type": "code",
   "execution_count": 39,
   "metadata": {
    "collapsed": true
   },
   "outputs": [],
   "source": [
    "df_first_diff_ln_train = df_first_difference[:93]\n",
    "df_first_diff_ln_test = df_first_difference[93:]"
   ]
  },
  {
   "cell_type": "markdown",
   "metadata": {},
   "source": [
    "## OLS"
   ]
  },
  {
   "cell_type": "code",
   "execution_count": 40,
   "metadata": {
    "scrolled": true
   },
   "outputs": [
    {
     "data": {
      "image/png": "[encoded data removed]",
      "text/plain": [
       "<matplotlib.figure.Figure at 0x7fe1a0a16b70>"
      ]
     },
     "metadata": {},
     "output_type": "display_data"
    }
   ],
   "source": [
    "reg = linear_model.LinearRegression()\n",
    "y = df_first_diff_ln_train['Hotel & Restaurant']\n",
    "x = df_first_diff_ln_train.drop(['Hotel & Restaurant'], axis=1)\n",
    "reg.fit(x,y)\n",
    "reg.score(x,y)\n",
    "y_test = df_first_diff_ln_test['Hotel & Restaurant']\n",
    "x_test = df_first_diff_ln_test.drop(['Hotel & Restaurant'], axis=1)\n",
    "pred = reg.predict(x_test)\n",
    "y_test = y_test.reset_index()['Hotel & Restaurant']\n",
    "plt.plot(y_test, 'r', label='y_test')\n",
    "plt.plot(pred, 'b', label='Prédction')\n",
    "plt.legend()\n",
    "plt.show()"
   ]
  },
  {
   "cell_type": "code",
   "execution_count": 41,
   "metadata": {
    "collapsed": true
   },
   "outputs": [],
   "source": [
    "a = pd.Series([mean_squared_error(y_test, pred), mean_absolute_error(y_test, pred), r2_score(y_test, pred)])\n",
    "b = pd.DataFrame(data=[a])\n",
    "b.columns = ['mse', 'mae', 'r2']"
   ]
  },
  {
   "cell_type": "code",
   "execution_count": 42,
   "metadata": {},
   "outputs": [
    {
     "data": {
      "text/html": [
       "<div>\n",
       "<style scoped>\n",
       "    .dataframe tbody tr th:only-of-type {\n",
       "        vertical-align: middle;\n",
       "    }\n",
       "\n",
       "    .dataframe tbody tr th {\n",
       "        vertical-align: top;\n",
       "    }\n",
       "\n",
       "    .dataframe thead th {\n",
       "        text-align: right;\n",
       "    }\n",
       "</style>\n",
       "<table border=\"1\" class=\"dataframe\">\n",
       "  <thead>\n",
       "    <tr style=\"text-align: right;\">\n",
       "      <th></th>\n",
       "      <th>mse</th>\n",
       "      <th>mae</th>\n",
       "      <th>r2</th>\n",
       "    </tr>\n",
       "  </thead>\n",
       "  <tbody>\n",
       "    <tr>\n",
       "      <th>0</th>\n",
       "      <td>141.980409</td>\n",
       "      <td>10.243264</td>\n",
       "      <td>-0.004419</td>\n",
       "    </tr>\n",
       "  </tbody>\n",
       "</table>\n",
       "</div>"
      ],
      "text/plain": [
       "          mse        mae        r2\n",
       "0  141.980409  10.243264 -0.004419"
      ]
     },
     "execution_count": 42,
     "metadata": {},
     "output_type": "execute_result"
    }
   ],
   "source": [
    "b"
   ]
  },
  {
   "cell_type": "markdown",
   "metadata": {},
   "source": [
    "## Ridge"
   ]
  },
  {
   "cell_type": "code",
   "execution_count": 43,
   "metadata": {},
   "outputs": [
    {
     "data": {
      "image/png": "[encoded data removed]",
      "text/plain": [
       "<matplotlib.figure.Figure at 0x7fe1a12a7898>"
      ]
     },
     "metadata": {},
     "output_type": "display_data"
    }
   ],
   "source": [
    "reg = linear_model.Ridge(alpha = 0.1)\n",
    "y = df_first_diff_ln_train['Hotel & Restaurant']\n",
    "x = df_first_diff_ln_train.drop(['Hotel & Restaurant'], axis=1)\n",
    "reg.fit(x,y)\n",
    "reg.score(x,y)\n",
    "y_test = df_first_diff_ln_test['Hotel & Restaurant']\n",
    "x_test = df_first_diff_ln_test.drop(['Hotel & Restaurant'], axis=1)\n",
    "pred = reg.predict(x_test)\n",
    "y_test = y_test.reset_index()['Hotel & Restaurant']\n",
    "plt.plot(y_test, 'r', label='y_test')\n",
    "plt.plot(pred, 'b', label='Prédiction')\n",
    "plt.legend()\n",
    "plt.show()"
   ]
  },
  {
   "cell_type": "code",
   "execution_count": 44,
   "metadata": {
    "collapsed": true
   },
   "outputs": [],
   "source": [
    "a = pd.Series([mean_squared_error(y_test, pred), mean_absolute_error(y_test, pred), r2_score(y_test, pred)])\n",
    "b = pd.DataFrame(data=[a])\n",
    "b.columns = ['mse', 'mae', 'r2']"
   ]
  },
  {
   "cell_type": "code",
   "execution_count": 45,
   "metadata": {},
   "outputs": [
    {
     "data": {
      "text/html": [
       "<div>\n",
       "<style scoped>\n",
       "    .dataframe tbody tr th:only-of-type {\n",
       "        vertical-align: middle;\n",
       "    }\n",
       "\n",
       "    .dataframe tbody tr th {\n",
       "        vertical-align: top;\n",
       "    }\n",
       "\n",
       "    .dataframe thead th {\n",
       "        text-align: right;\n",
       "    }\n",
       "</style>\n",
       "<table border=\"1\" class=\"dataframe\">\n",
       "  <thead>\n",
       "    <tr style=\"text-align: right;\">\n",
       "      <th></th>\n",
       "      <th>mse</th>\n",
       "      <th>mae</th>\n",
       "      <th>r2</th>\n",
       "    </tr>\n",
       "  </thead>\n",
       "  <tbody>\n",
       "    <tr>\n",
       "      <th>0</th>\n",
       "      <td>144.439655</td>\n",
       "      <td>10.381544</td>\n",
       "      <td>-0.021817</td>\n",
       "    </tr>\n",
       "  </tbody>\n",
       "</table>\n",
       "</div>"
      ],
      "text/plain": [
       "          mse        mae        r2\n",
       "0  144.439655  10.381544 -0.021817"
      ]
     },
     "execution_count": 45,
     "metadata": {},
     "output_type": "execute_result"
    }
   ],
   "source": [
    "b"
   ]
  },
  {
   "cell_type": "markdown",
   "metadata": {},
   "source": [
    "## Lasso"
   ]
  },
  {
   "cell_type": "code",
   "execution_count": 46,
   "metadata": {},
   "outputs": [
    {
     "data": {
      "image/png": "[encoded data removed]",
      "text/plain": [
       "<matplotlib.figure.Figure at 0x7fe1a0a16e48>"
      ]
     },
     "metadata": {},
     "output_type": "display_data"
    }
   ],
   "source": [
    "reg = linear_model.Lasso(alpha = 0.1)\n",
    "y = df_first_diff_ln_train['Hotel & Restaurant']\n",
    "x = df_first_diff_ln_train.drop(['Hotel & Restaurant'], axis=1)\n",
    "reg.fit(x,y)\n",
    "reg.score(x,y)\n",
    "y_test = df_first_diff_ln_test['Hotel & Restaurant']\n",
    "x_test = df_first_diff_ln_test.drop(['Hotel & Restaurant'], axis=1)\n",
    "pred = reg.predict(x_test)\n",
    "y_test = y_test.reset_index()['Hotel & Restaurant']\n",
    "plt.plot(y_test, 'r', label='y_test')\n",
    "plt.plot(pred, 'b', label='Prédiction')\n",
    "plt.legend()\n",
    "plt.show()"
   ]
  },
  {
   "cell_type": "code",
   "execution_count": 47,
   "metadata": {
    "collapsed": true
   },
   "outputs": [],
   "source": [
    "a = pd.Series([mean_squared_error(y_test, pred), mean_absolute_error(y_test, pred), r2_score(y_test, pred)])\n",
    "b = pd.DataFrame(data=[a])\n",
    "b.columns = ['mse', 'mae', 'r2']"
   ]
  },
  {
   "cell_type": "code",
   "execution_count": 48,
   "metadata": {},
   "outputs": [
    {
     "data": {
      "text/html": [
       "<div>\n",
       "<style scoped>\n",
       "    .dataframe tbody tr th:only-of-type {\n",
       "        vertical-align: middle;\n",
       "    }\n",
       "\n",
       "    .dataframe tbody tr th {\n",
       "        vertical-align: top;\n",
       "    }\n",
       "\n",
       "    .dataframe thead th {\n",
       "        text-align: right;\n",
       "    }\n",
       "</style>\n",
       "<table border=\"1\" class=\"dataframe\">\n",
       "  <thead>\n",
       "    <tr style=\"text-align: right;\">\n",
       "      <th></th>\n",
       "      <th>mse</th>\n",
       "      <th>mae</th>\n",
       "      <th>r2</th>\n",
       "    </tr>\n",
       "  </thead>\n",
       "  <tbody>\n",
       "    <tr>\n",
       "      <th>0</th>\n",
       "      <td>143.372569</td>\n",
       "      <td>10.354982</td>\n",
       "      <td>-0.014268</td>\n",
       "    </tr>\n",
       "  </tbody>\n",
       "</table>\n",
       "</div>"
      ],
      "text/plain": [
       "          mse        mae        r2\n",
       "0  143.372569  10.354982 -0.014268"
      ]
     },
     "execution_count": 48,
     "metadata": {},
     "output_type": "execute_result"
    }
   ],
   "source": [
    "b"
   ]
  },
  {
   "cell_type": "markdown",
   "metadata": {},
   "source": [
    "## Gradient boosting"
   ]
  },
  {
   "cell_type": "code",
   "execution_count": 49,
   "metadata": {},
   "outputs": [
    {
     "data": {
      "image/png": "[encoded data removed]",
      "text/plain": [
       "<matplotlib.figure.Figure at 0x7fe1a0b6d5f8>"
      ]
     },
     "metadata": {},
     "output_type": "display_data"
    }
   ],
   "source": [
    "from sklearn import ensemble\n",
    "from sklearn import datasets\n",
    "from sklearn.utils import shuffle\n",
    "from sklearn.metrics import mean_squared_error\n",
    "\n",
    "params = {'n_estimators': 100, 'max_depth': 4, 'min_samples_split': 5,\n",
    "          'learning_rate': 0.01, 'loss': 'ls'}\n",
    "clf = ensemble.GradientBoostingRegressor(**params)\n",
    "clf.fit(x, y)\n",
    "nouveau = clf.predict(x_test)\n",
    "plt.plot(y_test, 'r', label='y_test')\n",
    "plt.plot(nouveau, 'b', label='Prédiction')\n",
    "plt.legend()\n",
    "plt.show()"
   ]
  },
  {
   "cell_type": "code",
   "execution_count": 50,
   "metadata": {
    "collapsed": true
   },
   "outputs": [],
   "source": [
    "a = pd.Series([mean_squared_error(y_test, nouveau), mean_absolute_error(y_test, nouveau), r2_score(y_test, nouveau)])\n",
    "b = pd.DataFrame(data=[a])\n",
    "b.columns = ['mse', 'mae', 'r2']"
   ]
  },
  {
   "cell_type": "code",
   "execution_count": 51,
   "metadata": {},
   "outputs": [
    {
     "data": {
      "text/html": [
       "<div>\n",
       "<style scoped>\n",
       "    .dataframe tbody tr th:only-of-type {\n",
       "        vertical-align: middle;\n",
       "    }\n",
       "\n",
       "    .dataframe tbody tr th {\n",
       "        vertical-align: top;\n",
       "    }\n",
       "\n",
       "    .dataframe thead th {\n",
       "        text-align: right;\n",
       "    }\n",
       "</style>\n",
       "<table border=\"1\" class=\"dataframe\">\n",
       "  <thead>\n",
       "    <tr style=\"text-align: right;\">\n",
       "      <th></th>\n",
       "      <th>mse</th>\n",
       "      <th>mae</th>\n",
       "      <th>r2</th>\n",
       "    </tr>\n",
       "  </thead>\n",
       "  <tbody>\n",
       "    <tr>\n",
       "      <th>0</th>\n",
       "      <td>145.77142</td>\n",
       "      <td>9.849461</td>\n",
       "      <td>-0.031238</td>\n",
       "    </tr>\n",
       "  </tbody>\n",
       "</table>\n",
       "</div>"
      ],
      "text/plain": [
       "         mse       mae        r2\n",
       "0  145.77142  9.849461 -0.031238"
      ]
     },
     "execution_count": 51,
     "metadata": {},
     "output_type": "execute_result"
    }
   ],
   "source": [
    "b"
   ]
  },
  {
   "cell_type": "markdown",
   "metadata": {},
   "source": [
    "## Grid search"
   ]
  },
  {
   "cell_type": "code",
   "execution_count": 96,
   "metadata": {},
   "outputs": [
    {
     "name": "stdout",
     "output_type": "stream",
     "text": [
      "--\n"
     ]
    }
   ],
   "source": [
    "from sklearn.model_selection import GridSearchCV\n",
    "params = {'n_estimators': range(100,500,50), 'max_depth': [4,8], 'min_samples_split': [2,5],\n",
    "          'learning_rate': [0.01,0.05] }\n",
    "clf = ensemble.GradientBoostingRegressor(random_state=1)\n",
    "clf.fit(x, y)\n",
    "clf_gss=GridSearchCV(clf, params,scoring = 'r2',cv=5)\n",
    "clf_gss.fit(x,y)\n",
    "print('--')"
   ]
  },
  {
   "cell_type": "code",
   "execution_count": 97,
   "metadata": {},
   "outputs": [
    {
     "data": {
      "text/plain": [
       "GradientBoostingRegressor(alpha=0.9, criterion='friedman_mse', init=None,\n",
       "             learning_rate=0.01, loss='ls', max_depth=4, max_features=None,\n",
       "             max_leaf_nodes=None, min_impurity_decrease=0.0,\n",
       "             min_impurity_split=None, min_samples_leaf=1,\n",
       "             min_samples_split=5, min_weight_fraction_leaf=0.0,\n",
       "             n_estimators=100, presort='auto', random_state=1,\n",
       "             subsample=1.0, verbose=0, warm_start=False)"
      ]
     },
     "execution_count": 97,
     "metadata": {},
     "output_type": "execute_result"
    }
   ],
   "source": [
    "clf_gss.best_estimator_"
   ]
  },
  {
   "cell_type": "markdown",
   "metadata": {},
   "source": [
    "## Corrélation entre variables"
   ]
  },
  {
   "cell_type": "code",
   "execution_count": 78,
   "metadata": {},
   "outputs": [
    {
     "data": {
      "text/html": [
       "<div>\n",
       "<style scoped>\n",
       "    .dataframe tbody tr th:only-of-type {\n",
       "        vertical-align: middle;\n",
       "    }\n",
       "\n",
       "    .dataframe tbody tr th {\n",
       "        vertical-align: top;\n",
       "    }\n",
       "\n",
       "    .dataframe thead th {\n",
       "        text-align: right;\n",
       "    }\n",
       "</style>\n",
       "<table border=\"1\" class=\"dataframe\">\n",
       "  <thead>\n",
       "    <tr style=\"text-align: right;\">\n",
       "      <th></th>\n",
       "      <th>INDPRO</th>\n",
       "      <th>M1</th>\n",
       "      <th>Interest rate</th>\n",
       "      <th>Hotel &amp; Restaurant</th>\n",
       "    </tr>\n",
       "  </thead>\n",
       "  <tbody>\n",
       "    <tr>\n",
       "      <th>INDPRO</th>\n",
       "      <td>1.000000</td>\n",
       "      <td>0.160928</td>\n",
       "      <td>0.016458</td>\n",
       "      <td>0.042705</td>\n",
       "    </tr>\n",
       "    <tr>\n",
       "      <th>M1</th>\n",
       "      <td>0.160928</td>\n",
       "      <td>1.000000</td>\n",
       "      <td>-0.123051</td>\n",
       "      <td>0.074387</td>\n",
       "    </tr>\n",
       "    <tr>\n",
       "      <th>Interest rate</th>\n",
       "      <td>0.016458</td>\n",
       "      <td>-0.123051</td>\n",
       "      <td>1.000000</td>\n",
       "      <td>0.083797</td>\n",
       "    </tr>\n",
       "    <tr>\n",
       "      <th>Hotel &amp; Restaurant</th>\n",
       "      <td>0.042705</td>\n",
       "      <td>0.074387</td>\n",
       "      <td>0.083797</td>\n",
       "      <td>1.000000</td>\n",
       "    </tr>\n",
       "  </tbody>\n",
       "</table>\n",
       "</div>"
      ],
      "text/plain": [
       "                      INDPRO        M1  Interest rate  Hotel & Restaurant\n",
       "INDPRO              1.000000  0.160928       0.016458            0.042705\n",
       "M1                  0.160928  1.000000      -0.123051            0.074387\n",
       "Interest rate       0.016458 -0.123051       1.000000            0.083797\n",
       "Hotel & Restaurant  0.042705  0.074387       0.083797            1.000000"
      ]
     },
     "execution_count": 78,
     "metadata": {},
     "output_type": "execute_result"
    }
   ],
   "source": [
    "df_first_difference_ln.corr()"
   ]
  },
  {
   "cell_type": "code",
   "execution_count": null,
   "metadata": {
    "collapsed": true
   },
   "outputs": [],
   "source": []
  }
 ],
 "metadata": {
  "kernelspec": {
   "display_name": "Python 3",
   "language": "python",
   "name": "python3"
  },
  "language_info": {
   "codemirror_mode": {
    "name": "ipython",
    "version": 3
   },
   "file_extension": ".py",
   "mimetype": "text/x-python",
   "name": "python",
   "nbconvert_exporter": "python",
   "pygments_lexer": "ipython3",
   "version": "3.6.5"
  }
 },
 "nbformat": 4,
 "nbformat_minor": 2
}
