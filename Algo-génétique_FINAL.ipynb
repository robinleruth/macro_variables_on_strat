{
 "cells": [
  {
   "cell_type": "markdown",
   "metadata": {
    "collapsed": true
   },
   "source": [
    "# MACRO"
   ]
  },
  {
   "cell_type": "code",
   "execution_count": 1,
   "metadata": {
    "collapsed": true
   },
   "outputs": [],
   "source": [
    "import matplotlib.pyplot as plt"
   ]
  },
  {
   "cell_type": "code",
   "execution_count": 2,
   "metadata": {
    "collapsed": true
   },
   "outputs": [],
   "source": [
    "from IPython.core.debugger import set_trace"
   ]
  },
  {
   "cell_type": "code",
   "execution_count": 3,
   "metadata": {},
   "outputs": [
    {
     "name": "stderr",
     "output_type": "stream",
     "text": [
      "/usr/lib/python3.6/site-packages/statsmodels/compat/pandas.py:56: FutureWarning: The pandas.core.datetools module is deprecated and will be removed in a future version. Please use the pandas.tseries module instead.\n",
      "  from pandas.core import datetools\n"
     ]
    }
   ],
   "source": [
    "import numpy as np\n",
    "import pandas as pd\n",
    "import math\n",
    "import statsmodels.api as sm\n",
    "from statsmodels.tsa.api import VAR, DynamicVAR\n",
    "mdata = sm.datasets.macrodata.load_pandas().data"
   ]
  },
  {
   "cell_type": "code",
   "execution_count": 4,
   "metadata": {
    "collapsed": true
   },
   "outputs": [],
   "source": [
    "df = pd.read_excel('Cours_singalmacro_hotelresto_final.xlsx')"
   ]
  },
  {
   "cell_type": "code",
   "execution_count": 5,
   "metadata": {},
   "outputs": [
    {
     "data": {
      "text/html": [
       "<div>\n",
       "<style scoped>\n",
       "    .dataframe tbody tr th:only-of-type {\n",
       "        vertical-align: middle;\n",
       "    }\n",
       "\n",
       "    .dataframe tbody tr th {\n",
       "        vertical-align: top;\n",
       "    }\n",
       "\n",
       "    .dataframe thead th {\n",
       "        text-align: right;\n",
       "    }\n",
       "</style>\n",
       "<table border=\"1\" class=\"dataframe\">\n",
       "  <thead>\n",
       "    <tr style=\"text-align: right;\">\n",
       "      <th></th>\n",
       "      <th>Dates</th>\n",
       "      <th>Cours</th>\n",
       "      <th>Signal macro</th>\n",
       "    </tr>\n",
       "  </thead>\n",
       "  <tbody>\n",
       "    <tr>\n",
       "      <th>0</th>\n",
       "      <td>2015-10-01</td>\n",
       "      <td>174.388331</td>\n",
       "      <td>0</td>\n",
       "    </tr>\n",
       "    <tr>\n",
       "      <th>1</th>\n",
       "      <td>2015-10-02</td>\n",
       "      <td>176.600817</td>\n",
       "      <td>0</td>\n",
       "    </tr>\n",
       "    <tr>\n",
       "      <th>2</th>\n",
       "      <td>2015-10-05</td>\n",
       "      <td>180.076292</td>\n",
       "      <td>0</td>\n",
       "    </tr>\n",
       "  </tbody>\n",
       "</table>\n",
       "</div>"
      ],
      "text/plain": [
       "       Dates       Cours  Signal macro\n",
       "0 2015-10-01  174.388331             0\n",
       "1 2015-10-02  176.600817             0\n",
       "2 2015-10-05  180.076292             0"
      ]
     },
     "execution_count": 5,
     "metadata": {},
     "output_type": "execute_result"
    }
   ],
   "source": [
    "df[:3]"
   ]
  },
  {
   "cell_type": "code",
   "execution_count": 6,
   "metadata": {
    "collapsed": true
   },
   "outputs": [],
   "source": [
    "signal = df['Signal macro']\n",
    "cours = df['Cours']"
   ]
  },
  {
   "cell_type": "markdown",
   "metadata": {},
   "source": [
    "# MACD"
   ]
  },
  {
   "cell_type": "code",
   "execution_count": 7,
   "metadata": {
    "collapsed": true
   },
   "outputs": [],
   "source": [
    "def sma(n,debut,macd):\n",
    "    \n",
    "    \n",
    "    myval = 0\n",
    "    myval = np.mean(macd[debut-n:debut])\n",
    "    return myval\n",
    "\n"
   ]
  },
  {
   "cell_type": "code",
   "execution_count": 8,
   "metadata": {
    "collapsed": true
   },
   "outputs": [],
   "source": [
    "def fema(n):\n",
    "    p=2/(n+1)\n",
    "    ema=[]\n",
    "    for i in range(0,len(cours)):\n",
    "        if i==0:\n",
    "            ema.append(cours[0]*p)\n",
    "        else:\n",
    "            ema.append(cours[i]*p + ema[i-1]*(1-p))\n",
    "    return ema    "
   ]
  },
  {
   "cell_type": "code",
   "execution_count": 9,
   "metadata": {
    "collapsed": true
   },
   "outputs": [],
   "source": [
    "def fmacd(court,long,jourmoy):\n",
    "    emadouze=[]\n",
    "    emavingtsix=[]\n",
    "    emadouze=fema(court)\n",
    "    emavingtsix=fema(long)\n",
    "    macd=[]\n",
    "    signal=[]\n",
    "    \n",
    "    for i in range(0,len(cours)):\n",
    "        macd.append(emadouze[i]-emavingtsix[i])\n",
    "    \n",
    "    for j in range(jourmoy,len(cours)):\n",
    "        signal.append(sma(jourmoy,j,macd))\n",
    "    \n",
    "    macd=macd[jourmoy-1:len(cours)]\n",
    "    return signal,macd\n",
    "    \n",
    "    "
   ]
  },
  {
   "cell_type": "code",
   "execution_count": 10,
   "metadata": {
    "collapsed": true
   },
   "outputs": [],
   "source": [
    "def strategiemacd(court,long,jourmoy):\n",
    "    \n",
    "    macd=[]\n",
    "    signal=[]\n",
    "    position=[]\n",
    "    mapos=0\n",
    "    unsignal=0\n",
    "    \n",
    "    signal,macd=fmacd(court,long,jourmoy)\n",
    "    \n",
    "    for i in range(1,len(cours)-jourmoy):\n",
    "        #Signal de vente croisement entre macd et signal\n",
    "        if macd[i-1]>signal[i-1]:\n",
    "            if macd[i]<signal[i]:\n",
    "                unsignal=1\n",
    "                position.append(-1)\n",
    "\n",
    "        #Signal de vente croisement entre macd et 0            \n",
    "        elif macd[i-1]>0:\n",
    "            if macd[i]<0:\n",
    "                unsignal=1\n",
    "                position.append(-1)\n",
    "                \n",
    "                    \n",
    "        #Signal d'achat coisement entre macd et signal   \n",
    "        if macd[i-1]<signal[i-1]:\n",
    "            if macd[i]>signal[i]:\n",
    "                unsignal=1\n",
    "                position.append(1)\n",
    "                    \n",
    "        #Signal d'achat coisement entre macd et 0   \n",
    "        elif macd[i-1]<0:\n",
    "            if macd[i]>0:\n",
    "                unsignal=1\n",
    "                position.append(1)\n",
    "        if unsignal==0:\n",
    "            position.append(0)\n",
    "            \n",
    "        unsignal=0\n",
    "    \n",
    "    return position    \n",
    "    \n",
    "    \n",
    "    "
   ]
  },
  {
   "cell_type": "code",
   "execution_count": 11,
   "metadata": {
    "collapsed": true
   },
   "outputs": [],
   "source": [
    "def macd_for_AG(c_period, l_period, jourmoy):\n",
    "    #strat = strategiemacd(c_period, l_period)\n",
    "    return nouveau_backtesteur(strategiemacd(c_period, l_period,jourmoy), jourmoy)[0]"
   ]
  },
  {
   "cell_type": "markdown",
   "metadata": {},
   "source": [
    "# WILLIAMS"
   ]
  },
  {
   "cell_type": "code",
   "execution_count": 14,
   "metadata": {
    "collapsed": true
   },
   "outputs": [],
   "source": [
    "def nouveau_backtesteur(position_entree,position_sortie, jourmoy):\n",
    "    cours_local = cours[-len(position_entree)-jourmoy-1:]\n",
    "    cours_local = cours_local.reset_index(drop=True)\n",
    "    positionAchat = False\n",
    "    positionVente = False\n",
    "    i = 0\n",
    "    cash = [0] * len(cours_local)\n",
    "    cash[0] = 200\n",
    "    achete = [0] * len(cours_local)\n",
    "    vente = [0] * len(cours_local)\n",
    "    vl = [0] * len(cours_local)\n",
    "        \n",
    "    def calculer_VL(i):\n",
    "        ac = (cours_local[i] - achete[i] ) + achete[i]\n",
    "        v = (vente[i] - cours_local[i] ) + vente[i]\n",
    "        vl[i] = cash[i]\n",
    "        #set_trace()\n",
    "        if(positionAchat == True):\n",
    "            vl[i] += ac\n",
    "        if(positionVente == True):\n",
    "            vl[i] += v\n",
    "        \n",
    "    def new_line(i):\n",
    "        if(i>0):\n",
    "            #set_trace()\n",
    "            cash[i] = cash[i-1]\n",
    "            achete[i] = achete[i-1]\n",
    "            vente[i] = vente[i-1]\n",
    "        calculer_VL(i)\n",
    "        \n",
    "    sur_le_marche = False\n",
    "        \n",
    "    for i in range(len(position_entree)):\n",
    "        #print(i)\n",
    "        if(sur_le_marche == False):\n",
    "            if(position_entree[i] == 1): # ACHAT\n",
    "                new_line(i)\n",
    "                if(positionAchat == False):\n",
    "                    if(cash[i] > cours_local[i]):\n",
    "                        cash[i] -= cours_local[i]\n",
    "                        achete[i] += cours_local[i]\n",
    "                        positionAchat = True\n",
    "                        sur_le_marche = True\n",
    "                calculer_VL(i)\n",
    "            elif(position_entree[i] == -1): # SHORT\n",
    "                new_line(i)\n",
    "                if(positionVente == False):\n",
    "                    if(cash[i] > cours_local[i]):\n",
    "                        cash[i] -= cours_local[i]\n",
    "                        vente[i] += cours_local[i]\n",
    "                        positionVente = True\n",
    "                        sur_le_marche = True\n",
    "                calculer_VL(i)\n",
    "            else:\n",
    "                new_line(i)\n",
    "        else:\n",
    "            if(position_sortie[i] == 1): # FERMER ORDRE VENTE\n",
    "                new_line(i)\n",
    "                if(positionVente == True):\n",
    "                    cash[i] += (vente[i] - cours_local[i]) + vente[i]\n",
    "                    vente[i] = 0\n",
    "                    positionVente = False\n",
    "                    sur_le_marche = False\n",
    "                calculer_VL(i)\n",
    "            elif(position_sortie[i] == -1): # FERMER ORDRE ACHAT\n",
    "                new_line(i)\n",
    "                if(positionAchat == True):\n",
    "                    cash[i] += cours_local[i]\n",
    "                    achete[i] = 0\n",
    "                    positionAchat = False\n",
    "                    sur_le_marche = False\n",
    "                calculer_VL(i)\n",
    "            else:\n",
    "                new_line(i)\n",
    "            \n",
    "            \n",
    "    def base_100(vl):\n",
    "        formule = [0] * len(vl)\n",
    "        formule[0] = 100\n",
    "        #set_trace()\n",
    "        for i in range(1, len(vl)):\n",
    "            try:\n",
    "                rendement = (vl[i] - vl[i-1])/vl[i-1]\n",
    "            except Exception as e:\n",
    "                rendement = 0\n",
    "            formule[i] = (1+rendement)*formule[i-1]\n",
    "        return formule\n",
    "\n",
    "    df1 = {'cash': cash, 'acheté': achete, 'vendu': vente, 'VL': vl, 'Cours': cours_local, 'pos_entree': position_entree, 'pos_sortie': position_sortie}\n",
    "    return base_100(vl[:-jourmoy-1]), base_100(cours_local[:-jourmoy-1]), pd.DataFrame(df1)"
   ]
  },
  {
   "cell_type": "code",
   "execution_count": 15,
   "metadata": {
    "collapsed": true
   },
   "outputs": [],
   "source": [
    "def williams(nb_jour, oscill_low, oscill_high):\n",
    "    Williams_list = [0] * nb_jour\n",
    "    DateDebut=nb_jour\n",
    "    DateFin=len(cours)\n",
    "\n",
    "    for i in range(DateDebut,DateFin):\n",
    "\n",
    "        Cours_hotel=cours[i]\n",
    "\n",
    "        Cours_hotel_Min=Cours_hotel\n",
    "        Cours_hotel_Max=Cours_hotel\n",
    "\n",
    "        for j in range(1,nb_jour):\n",
    "\n",
    "\n",
    "            temp=cours[i-j]\n",
    "\n",
    "            if temp > Cours_hotel_Max:\n",
    "                Cours_hotel_Max=temp\n",
    "\n",
    "\n",
    "            if temp<Cours_hotel_Min:\n",
    "                Cours_hotel_Min=temp\n",
    "\n",
    "\n",
    "        Williams = -100 * ((Cours_hotel_Max-Cours_hotel)/(Cours_hotel_Max-Cours_hotel_Min))\n",
    "        Williams_list.append(Williams)\n",
    "\n",
    "    Signal_Williams_list=[0] * nb_jour\n",
    "    DateDebut_2=nb_jour - 1\n",
    "    DateFin_2=len(cours)-1\n",
    "    for i in range(DateDebut_2,DateFin_2):\n",
    "\n",
    "        Williams_n1=Williams_list[i]\n",
    "        Williams_n2=Williams_list[i+1]\n",
    "\n",
    "        if Williams_n2>Williams_n1 and Williams_n2<oscill_high:\n",
    "\n",
    "            Signal_Williams=1\n",
    "\n",
    "        elif Williams_n2<Williams_n1 and Williams_n2>oscill_low:\n",
    "\n",
    "            Signal_Williams=-1\n",
    "\n",
    "        else:\n",
    "\n",
    "            Signal_Williams=0\n",
    "\n",
    "        Signal_Williams_list.append(Signal_Williams)\n",
    "        \n",
    "    return Signal_Williams_list"
   ]
  },
  {
   "cell_type": "code",
   "execution_count": 16,
   "metadata": {
    "collapsed": true
   },
   "outputs": [],
   "source": [
    "def williams_for_AG(nb_jour):\n",
    "    #strat = strategiemacd(c_period, l_period)\n",
    "    return nouveau_backtesteur(williams(nb_jour), nb_jour)[0]"
   ]
  },
  {
   "cell_type": "markdown",
   "metadata": {},
   "source": [
    " # STRATEGIE TOTAL AVEC VARIABLES MACRO"
   ]
  },
  {
   "cell_type": "code",
   "execution_count": 17,
   "metadata": {
    "collapsed": true
   },
   "outputs": [],
   "source": [
    "def meme_taille(signal,signal_macdd,signal_williamss):\n",
    "    signal_macro = signal[-len(signal_macdd):] # modif faite ici\n",
    "    \n",
    "    signal_williams =signal_williamss[-len(signal_macro):]\n",
    "    signal_macd = signal_macdd[-len(signal_macro):]\n",
    "    return signal_macd, signal_williams, signal_macro.reset_index()['Signal macro']"
   ]
  },
  {
   "cell_type": "code",
   "execution_count": 18,
   "metadata": {
    "collapsed": true
   },
   "outputs": [],
   "source": [
    "def strategie_final(signal_macd,signal_williams,signal_macro):\n",
    "    strategie_total = pd.DataFrame({'signal macro': signal_macro,\n",
    "     'signal williams': signal_williams,\n",
    "     'signal macd': signal_macd,\n",
    "    'signal_entree': signal_macd,\n",
    "    'signal_sortie':signal_macd\n",
    "    }) \n",
    "    for i in range(0, len(signal_williams)):\n",
    "        if(strategie_total['signal macro'][i]==1 and strategie_total['signal williams'][i]==1 ):\n",
    "            strategie_total['signal_entree'][i]=1\n",
    "        elif (strategie_total['signal macro'][i]== 0 and strategie_total['signal williams'][i]==1 ):\n",
    "            strategie_total['signal_entree'][i]=1\n",
    "        elif (strategie_total['signal macro'][i]== -1 and strategie_total['signal williams'][i]==1 ):\n",
    "            strategie_total['signal_entree'][i]= 0\n",
    "        elif (strategie_total['signal macro'][i]== 1 and strategie_total['signal williams'][i]==0 ):\n",
    "            strategie_total['signal_entree'][i]= 0\n",
    "        elif (strategie_total['signal macro'][i]== 0 and strategie_total['signal williams'][i]==0 ):\n",
    "            strategie_total['signal_entree'][i]= 0\n",
    "        elif (strategie_total['signal macro'][i]== -1 and strategie_total['signal williams'][i]==0 ):\n",
    "            strategie_total['signal_entree'][i]= 0\n",
    "        elif (strategie_total['signal macro'][i]== 1 and strategie_total['signal williams'][i]==-1 ):\n",
    "            strategie_total['signal_entree'][i]= 0 # modifier ici au cas où\n",
    "        elif (strategie_total['signal macro'][i]== 0 and strategie_total['signal williams'][i]==-1 ):\n",
    "            strategie_total['signal_entree'][i]= -1\n",
    "        elif (strategie_total['signal macro'][i]== -1 and strategie_total['signal williams'][i]==-1 ):\n",
    "            strategie_total['signal_entree'][i]= -1\n",
    "            #-----------------------\n",
    "        if(strategie_total['signal macro'][i]==1 and strategie_total['signal macd'][i]==1 ):\n",
    "            strategie_total['signal_sortie'][i]= 1\n",
    "        elif(strategie_total['signal macro'][i]==0 and strategie_total['signal macd'][i]==1 ):\n",
    "            strategie_total['signal_sortie'][i]= 1\n",
    "        elif(strategie_total['signal macro'][i]==-1 and strategie_total['signal macd'][i]==1 ):\n",
    "            strategie_total['signal_sortie'][i]= 0\n",
    "        elif(strategie_total['signal macro'][i]==1 and strategie_total['signal macd'][i]==0 ):\n",
    "            strategie_total['signal_sortie'][i]= 0 \n",
    "        elif(strategie_total['signal macro'][i]==0 and strategie_total['signal macd'][i]==0 ):\n",
    "            strategie_total['signal_sortie'][i]= 0\n",
    "        elif(strategie_total['signal macro'][i]==-1 and strategie_total['signal macd'][i]==0 ):\n",
    "            strategie_total['signal_sortie'][i]= 0\n",
    "        elif(strategie_total['signal macro'][i]==1 and strategie_total['signal macd'][i]==-1 ):\n",
    "            strategie_total['signal_sortie'][i]= 0 # modif ici\n",
    "        elif(strategie_total['signal macro'][i]==0 and strategie_total['signal macd'][i]==-1 ):\n",
    "            strategie_total['signal_sortie'][i]= -1 \n",
    "        elif(strategie_total['signal macro'][i]==-1 and strategie_total['signal macd'][i]==-1 ):\n",
    "            strategie_total['signal_sortie'][i]= -1\n",
    "        \n",
    "            #on a rajouter la macro pour confirmer le signal de vente \n",
    "        # macro = 1 and macd = 1 -> sortie = 1\n",
    "        # macro = 1 and macd = 0 -> sortie = 0\n",
    "        # macro = 1 and macd = -1 -> sortie = 0\n",
    "        # macro = -1 and macd = 1 -> sortie = 0\n",
    "        # macro = -1 and macd = 0 -> sortie = 0\n",
    "        # macro = -1 and macd = -1 -> sortie = -1\n",
    "        # macro = 0 and macd = 1 -> sortie = 1\n",
    "        # macro = 0 and macd = 0 -> sortie = 0\n",
    "        # macro = 0 and macd = -1 -> sortie = -1\n",
    "            \n",
    "    return strategie_total"
   ]
  },
  {
   "cell_type": "code",
   "execution_count": 19,
   "metadata": {
    "collapsed": true
   },
   "outputs": [],
   "source": [
    "def signal_for_AG(signal, court, long, jourmoy, nb_jour, oscill_low, oscill_high):\n",
    "    a,b,c=meme_taille(signal,strategiemacd(court,long,jourmoy),williams(nb_jour, oscill_low, oscill_high))\n",
    "    tableau = strategie_final(a,b,c)\n",
    "    #print(tableau)\n",
    "    return nouveau_backtesteur(tableau['signal_entree'],tableau['signal_sortie'],jourmoy)[0]"
   ]
  },
  {
   "cell_type": "code",
   "execution_count": 20,
   "metadata": {
    "collapsed": true
   },
   "outputs": [],
   "source": [
    "def signal_for_AG_courscent(signal, court, long, jourmoy, nb_jour, oscill_low, oscill_high):\n",
    "    a,b,c=meme_taille(signal,strategiemacd(court,long,jourmoy),williams(nb_jour, oscill_low, oscill_high))\n",
    "    tableau = strategie_final(a,b,c)\n",
    "    #print(tableau)\n",
    "    return nouveau_backtesteur(tableau['signal_entree'],tableau['signal_sortie'], jourmoy)"
   ]
  },
  {
   "cell_type": "markdown",
   "metadata": {},
   "source": [
    "# STRATEGIE TOTALE SANS VARIABLE MACRO"
   ]
  },
  {
   "cell_type": "code",
   "execution_count": 23,
   "metadata": {
    "collapsed": true
   },
   "outputs": [],
   "source": [
    "def strategie_final_sans_macro(signal_macd,signal_williams,signal_macro):\n",
    "    strategie_total = pd.DataFrame({'signal macro': signal_macro,\n",
    "     'signal williams': signal_williams,\n",
    "     'signal macd': signal_macd,\n",
    "    'signal_entree': signal_williams,\n",
    "    'signal_sortie':signal_macd\n",
    "    }) \n",
    "    #ici le signal total ne tient compte que du signal macd et signal williams pas du signal macro pour le moment\n",
    "    return strategie_total"
   ]
  },
  {
   "cell_type": "code",
   "execution_count": 24,
   "metadata": {
    "collapsed": true
   },
   "outputs": [],
   "source": [
    "def signal_sans_macro_for_AG(signal, court, long, jourmoy, nb_jour, oscill_low, oscill_high):\n",
    "    a,b,c=meme_taille(signal,strategiemacd(court,long,jourmoy),williams(nb_jour, oscill_low, oscill_high))\n",
    "    tableau = strategie_final_sans_macro(a,b,c)\n",
    "    #print(tableau)\n",
    "    return nouveau_backtesteur(tableau['signal_entree'],tableau['signal_sortie'], jourmoy)[0]"
   ]
  },
  {
   "cell_type": "code",
   "execution_count": 25,
   "metadata": {
    "collapsed": true
   },
   "outputs": [],
   "source": [
    "def signal_sans_macro_for_AG_courscent(signal, court, long, jourmoy, nb_jour, oscill_low, oscill_high):\n",
    "    a,b,c=meme_taille(signal,strategiemacd(court,long,jourmoy),williams(nb_jour, oscill_low, oscill_high))\n",
    "    tableau = strategie_final_sans_macro(a,b,c)\n",
    "    #print(tableau)\n",
    "    return nouveau_backtesteur(tableau['signal_entree'],tableau['signal_sortie'], jourmoy)"
   ]
  },
  {
   "cell_type": "markdown",
   "metadata": {},
   "source": [
    "# Algo Génétique"
   ]
  },
  {
   "cell_type": "code",
   "execution_count": 28,
   "metadata": {
    "collapsed": true
   },
   "outputs": [],
   "source": [
    "from deap import base, creator, tools\n",
    "import random\n",
    "import numpy as np"
   ]
  },
  {
   "cell_type": "code",
   "execution_count": 29,
   "metadata": {
    "collapsed": true
   },
   "outputs": [],
   "source": [
    "creator.create(\"FitnessMulti\", base.Fitness, weights=(1.0, -1.0))\n",
    "creator.create(\"Individual\", np.ndarray, fitness=creator.FitnessMulti)"
   ]
  },
  {
   "cell_type": "code",
   "execution_count": 30,
   "metadata": {
    "collapsed": true
   },
   "outputs": [],
   "source": [
    "class Test():\n",
    "    court = 0\n",
    "    long = 0\n",
    "    jourmoy = 0\n",
    "    nb_jour = 0\n",
    "    oscill_low = 0\n",
    "    oscill_high = 0\n",
    "    \n",
    "    @staticmethod\n",
    "    def create_attribute():\n",
    "        if(Test.court == 0):\n",
    "            Test.court = random.randint(1,30)\n",
    "            return Test.court\n",
    "        if(Test.long == 0):\n",
    "            Test.long = random.randint(Test.court,30)\n",
    "            return Test.long\n",
    "        if(Test.jourmoy == 0):\n",
    "            Test.jourmoy = random.randint(2, 15)\n",
    "            return Test.jourmoy\n",
    "        if(Test.nb_jour == 0):\n",
    "            Test.nb_jour = random.randint(14,20)\n",
    "            return Test.nb_jour\n",
    "        if(Test.oscill_low == 0):\n",
    "            Test.oscill_low = random.randint(-50, -1)\n",
    "            return Test.oscill_low\n",
    "        if(Test.oscill_high == 0):\n",
    "            Test.court = 0\n",
    "            Test.long = 0\n",
    "            Test.jourmoy = 0\n",
    "            Test.nb_jour = 0\n",
    "            Test.oscill_low = 0\n",
    "            Test.oscill_high = 0\n",
    "            return random.randint(-100, -50)"
   ]
  },
  {
   "cell_type": "code",
   "execution_count": 31,
   "metadata": {
    "collapsed": true
   },
   "outputs": [],
   "source": [
    "IND_SIZE = 10\n",
    "\n",
    "toolbox = base.Toolbox()\n",
    "toolbox.register(\"attribute\", Test.create_attribute)\n",
    "toolbox.register(\"individual\", tools.initRepeat, creator.Individual, toolbox.attribute, n=6)\n",
    "toolbox.register(\"population\", tools.initRepeat, list, toolbox.individual)"
   ]
  },
  {
   "cell_type": "markdown",
   "metadata": {},
   "source": [
    "# Evaluate_individual à modifier lors de l'optimisation avec/sans macro"
   ]
  },
  {
   "cell_type": "code",
   "execution_count": 32,
   "metadata": {
    "collapsed": true
   },
   "outputs": [],
   "source": [
    "def evaluate_individual(individual):\n",
    "    if(individual[0] > individual[1]):\n",
    "        return -1, 1\n",
    "    if(individual[2] == 0):\n",
    "        return -1, 1\n",
    "    # MODIFIER SIGNAL_SANS_MACRO_FOR_AG par SIGNAL_FOR_AG\n",
    "    vl = signal_for_AG(signal, individual[0], individual[1], individual[2], individual[3], individual[4], individual[5])\n",
    "    #-------------------------------\n",
    "    perf = (vl[len(vl) - 1] - vl[0] ) / vl[0]\n",
    "    perfs = []\n",
    "    for i in range(1, len(vl) - 1):\n",
    "        temp = (vl[i] - vl[i-1]) / vl[i-1]\n",
    "        perfs.append(temp)\n",
    "    vol = np.std(perfs) * np.sqrt(252)\n",
    "    return perf, vol"
   ]
  },
  {
   "cell_type": "markdown",
   "metadata": {},
   "source": [
    "# ---------------------------------------------------------------"
   ]
  },
  {
   "cell_type": "code",
   "execution_count": 33,
   "metadata": {
    "collapsed": true
   },
   "outputs": [],
   "source": [
    "def evaluate(individual):\n",
    "    return sum(individual),\n",
    "\n",
    "toolbox.register(\"mate\", tools.cxTwoPoint)\n",
    "toolbox.register(\"mutate\", tools.mutGaussian, mu=0, sigma=1, indpb=0.1)\n",
    "toolbox.register(\"select\", tools.selTournament, tournsize=3)\n",
    "toolbox.register(\"evaluate\", evaluate_individual)"
   ]
  },
  {
   "cell_type": "code",
   "execution_count": 34,
   "metadata": {
    "collapsed": true
   },
   "outputs": [],
   "source": [
    "def main():\n",
    "    pop = toolbox.population(n=10000)\n",
    "    #print(pop)\n",
    "    CXPB, MUTPB, NGEN = 0.5, 0.2, 10\n",
    "\n",
    "    # Evaluer la population entière\n",
    "    fitnesses = map(toolbox.evaluate, pop)\n",
    "    for ind, fit in zip(pop, fitnesses):\n",
    "        ind.fitness.values = fit\n",
    "\n",
    "    for g in range(NGEN):\n",
    "        # Sélectionner la prochaine génération d'individu\n",
    "        print(g)\n",
    "        offspring = toolbox.select(pop, len(pop))\n",
    "        # Clone les individus sélectionnés\n",
    "        offspring = list(map(toolbox.clone, offspring))\n",
    "\n",
    "        # Appliquer le croisement et la mutation sur la nouvelle génération\n",
    "        for child1, child2 in zip(offspring[::2], offspring[1::2]):\n",
    "            if random.random() < CXPB:\n",
    "                toolbox.mate(child1, child2)\n",
    "                del child1.fitness.values\n",
    "                del child2.fitness.values\n",
    "\n",
    "        for mutant in offspring:\n",
    "            if random.random() < MUTPB:\n",
    "                toolbox.mutate(mutant)\n",
    "                del mutant.fitness.values\n",
    "\n",
    "        # Evaluer les individus avec une fonction fitness invalide\n",
    "        invalid_ind = [ind for ind in offspring if not ind.fitness.valid]\n",
    "        fitnesses = map(toolbox.evaluate, invalid_ind)\n",
    "        try:\n",
    "            for ind, fit in zip(invalid_ind, fitnesses):\n",
    "                ind.fitness.values = fit\n",
    "        except Exception as e:\n",
    "            print(e)\n",
    "            print(ind)\n",
    "            print(fit)\n",
    "\n",
    "        # La popoluation est entièrement remplacée par les enfants\n",
    "        pop[:] = offspring\n",
    "\n",
    "    return pop"
   ]
  },
  {
   "cell_type": "markdown",
   "metadata": {},
   "source": [
    "# RESULTAT AVEC MACRO"
   ]
  },
  {
   "cell_type": "code",
   "execution_count": 35,
   "metadata": {
    "collapsed": true
   },
   "outputs": [
    {
     "name": "stdout",
     "output_type": "stream",
     "text": [
      "0\n",
      "1\n",
      "2\n",
      "3\n",
      "4\n",
      "5\n",
      "6\n",
      "7\n",
      "8\n",
      "9\n"
     ]
    }
   ],
   "source": [
    "a = main()"
   ]
  },
  {
   "cell_type": "code",
   "execution_count": 39,
   "metadata": {
    "collapsed": true
   },
   "outputs": [
    {
     "name": "stdout",
     "output_type": "stream",
     "text": [
      "0 0.4998678267708303 0.13945759148594886\n",
      "19 0.49987766003009965 0.1391098930337368\n",
      "21 0.5013957135266918 0.13541650849793288\n",
      "35 0.5027663027256344 0.13881293535762615\n",
      "48 0.5144558829498493 0.1329270864985793\n"
     ]
    }
   ],
   "source": [
    "t = []\n",
    "maxi = 0\n",
    "for c,b in enumerate(a):\n",
    "    try:\n",
    "        temp = evaluate_individual(b)\n",
    "    except Exception as e:\n",
    "        print(c)\n",
    "    if(maxi < temp[0]):\n",
    "        maxi = temp[0]\n",
    "        print(c, temp[0], temp[1])"
   ]
  },
  {
   "cell_type": "markdown",
   "metadata": {},
   "source": [
    "# Plot Des deux optimisations séparées"
   ]
  },
  {
   "cell_type": "code",
   "execution_count": 35,
   "metadata": {
    "collapsed": true
   },
   "outputs": [],
   "source": [
    "vl_sans_macro_param_optimisees_macro, courscent, tab1 = signal_sans_macro_for_AG_courscent(signal, 19,  29,   3,  20,  -4, -51)"
   ]
  },
  {
   "cell_type": "code",
   "execution_count": 36,
   "metadata": {
    "collapsed": true
   },
   "outputs": [],
   "source": [
    "vl_avec_macro_param_optimisees_macro,courscent, tab2 = signal_for_AG_courscent(signal, 5,  27,   1,  17, -46, -91)"
   ]
  },
  {
   "cell_type": "code",
   "execution_count": 37,
   "metadata": {
    "scrolled": false
   },
   "outputs": [
    {
     "data": {
      "image/png": "[encoded data removed]",
      "text/plain": [
       "<matplotlib.figure.Figure at 0x7fabc28a16a0>"
      ]
     },
     "metadata": {},
     "output_type": "display_data"
    }
   ],
   "source": [
    "plt.figure(figsize=(20,10))\n",
    "plt.xticks(np.arange(0,600,30))\n",
    "plt.plot(vl_sans_macro_param_optimisees_macro, label='VL sans macro avec paramètre optimisé sans macro')\n",
    "plt.plot(vl_avec_macro_param_optimisees_macro, label='VL avec macro avec paramètre optimisé macro')\n",
    "plt.plot(courscent, label='Cours')\n",
    "plt.legend()\n",
    "plt.show()"
   ]
  },
  {
   "cell_type": "markdown",
   "metadata": {},
   "source": [
    "# ------------------------------------------"
   ]
  },
  {
   "cell_type": "markdown",
   "metadata": {},
   "source": [
    "# Quelques chiffres"
   ]
  },
  {
   "cell_type": "code",
   "execution_count": 38,
   "metadata": {
    "collapsed": true
   },
   "outputs": [],
   "source": [
    "def get_perf(vl):\n",
    "    perfs = []\n",
    "    for i in range(1, len(vl)):\n",
    "        rendement = (vl[i] - vl[i-1])/vl[i-1]\n",
    "        perfs.append(rendement)\n",
    "    return perfs\n",
    "\n",
    "def vol_annuel(vl):\n",
    "    perf = get_perf(vl)\n",
    "    return np.std(perf) * np.sqrt(252)\n",
    "\n",
    "def get_perf_annuel(vl):\n",
    "    perf = get_perf(vl)\n",
    "    perf_periode = (vl[len(perf)-1] - vl[0] ) / vl[0]\n",
    "    perf_quotidienne = (1 + perf_periode) ** (1/len(vl)) -1\n",
    "    perf_annuelle = (1 + perf_quotidienne) ** 365 -1\n",
    "    return perf_annuelle"
   ]
  },
  {
   "cell_type": "code",
   "execution_count": 39,
   "metadata": {
    "collapsed": true
   },
   "outputs": [],
   "source": [
    "def max_drawdown(vl):\n",
    "    max_dd = 0\n",
    "    for i in range(len(vl) - 1):\n",
    "        for j in range(i + 1, len(vl)):\n",
    "            perf = (vl[j] - vl[i] ) / vl[i]\n",
    "            if(perf < max_dd):\n",
    "                max_dd = perf\n",
    "    return max_dd"
   ]
  },
  {
   "cell_type": "code",
   "execution_count": 40,
   "metadata": {
    "collapsed": true
   },
   "outputs": [],
   "source": [
    "def ratio_sharpe(vl):\n",
    "    return (get_perf_annuel(vl) - 0.01) / vol_annuel(vl)"
   ]
  },
  {
   "cell_type": "code",
   "execution_count": 41,
   "metadata": {
    "collapsed": true
   },
   "outputs": [],
   "source": [
    "vol = [vol_annuel(vl_sans_macro_param_optimisees_macro), vol_annuel(vl_avec_macro_param_optimisees_macro), vol_annuel(courscent)]"
   ]
  },
  {
   "cell_type": "code",
   "execution_count": 42,
   "metadata": {
    "collapsed": true
   },
   "outputs": [],
   "source": [
    "max_dd = [max_drawdown(vl_sans_macro_param_optimisees_macro), max_drawdown(vl_avec_macro_param_optimisees_macro), max_drawdown(courscent)]\n",
    "max_dd = list(map(lambda x: -x, max_dd))"
   ]
  },
  {
   "cell_type": "code",
   "execution_count": 43,
   "metadata": {
    "collapsed": true
   },
   "outputs": [],
   "source": [
    "perfs = [get_perf_annuel(vl_sans_macro_param_optimisees_macro), get_perf_annuel(vl_avec_macro_param_optimisees_macro), get_perf_annuel(courscent)]"
   ]
  },
  {
   "cell_type": "code",
   "execution_count": 44,
   "metadata": {
    "collapsed": true
   },
   "outputs": [],
   "source": [
    "RS = [ratio_sharpe(vl_sans_macro_param_optimisees_macro), ratio_sharpe(vl_avec_macro_param_optimisees_macro), ratio_sharpe(courscent)]"
   ]
  },
  {
   "cell_type": "code",
   "execution_count": 45,
   "metadata": {
    "collapsed": true
   },
   "outputs": [],
   "source": [
    "index = ['Sans macro', 'Avec macro', 'Cours']"
   ]
  },
  {
   "cell_type": "code",
   "execution_count": 46,
   "metadata": {
    "collapsed": true
   },
   "outputs": [],
   "source": [
    "result = pd.DataFrame({'Performance annuelle': perfs, 'Volailité annuelle': vol, 'Max_drawdown': max_dd, 'Index': index, 'Ratio de Sharpe': RS})"
   ]
  },
  {
   "cell_type": "code",
   "execution_count": 47,
   "metadata": {},
   "outputs": [
    {
     "data": {
      "text/html": [
       "<div>\n",
       "<style scoped>\n",
       "    .dataframe tbody tr th:only-of-type {\n",
       "        vertical-align: middle;\n",
       "    }\n",
       "\n",
       "    .dataframe tbody tr th {\n",
       "        vertical-align: top;\n",
       "    }\n",
       "\n",
       "    .dataframe thead th {\n",
       "        text-align: right;\n",
       "    }\n",
       "</style>\n",
       "<table border=\"1\" class=\"dataframe\">\n",
       "  <thead>\n",
       "    <tr style=\"text-align: right;\">\n",
       "      <th></th>\n",
       "      <th>Max_drawdown</th>\n",
       "      <th>Performance annuelle</th>\n",
       "      <th>Ratio de Sharpe</th>\n",
       "      <th>Volailité annuelle</th>\n",
       "    </tr>\n",
       "    <tr>\n",
       "      <th>Index</th>\n",
       "      <th></th>\n",
       "      <th></th>\n",
       "      <th></th>\n",
       "      <th></th>\n",
       "    </tr>\n",
       "  </thead>\n",
       "  <tbody>\n",
       "    <tr>\n",
       "      <th>Sans macro</th>\n",
       "      <td>0.082568</td>\n",
       "      <td>0.288008</td>\n",
       "      <td>2.126911</td>\n",
       "      <td>0.130710</td>\n",
       "    </tr>\n",
       "    <tr>\n",
       "      <th>Avec macro</th>\n",
       "      <td>0.076774</td>\n",
       "      <td>0.352269</td>\n",
       "      <td>2.577409</td>\n",
       "      <td>0.132796</td>\n",
       "    </tr>\n",
       "    <tr>\n",
       "      <th>Cours</th>\n",
       "      <td>0.246375</td>\n",
       "      <td>0.248918</td>\n",
       "      <td>1.115959</td>\n",
       "      <td>0.214092</td>\n",
       "    </tr>\n",
       "  </tbody>\n",
       "</table>\n",
       "</div>"
      ],
      "text/plain": [
       "            Max_drawdown  Performance annuelle  Ratio de Sharpe  \\\n",
       "Index                                                             \n",
       "Sans macro      0.082568              0.288008         2.126911   \n",
       "Avec macro      0.076774              0.352269         2.577409   \n",
       "Cours           0.246375              0.248918         1.115959   \n",
       "\n",
       "            Volailité annuelle  \n",
       "Index                           \n",
       "Sans macro            0.130710  \n",
       "Avec macro            0.132796  \n",
       "Cours                 0.214092  "
      ]
     },
     "execution_count": 47,
     "metadata": {},
     "output_type": "execute_result"
    }
   ],
   "source": [
    "result.set_index(['Index'])"
   ]
  },
  {
   "cell_type": "markdown",
   "metadata": {},
   "source": [
    "# ------------------------------------------"
   ]
  },
  {
   "cell_type": "markdown",
   "metadata": {},
   "source": [
    "# Sortie des tableaux de cash"
   ]
  },
  {
   "cell_type": "code",
   "execution_count": 48,
   "metadata": {
    "collapsed": true
   },
   "outputs": [],
   "source": [
    "cols = tab1.columns\n",
    "cols = ['cash', 'acheté', 'vendu', 'VL', 'Cours', 'pos_entree', 'pos_sortie']\n",
    "tab1 = tab1[cols]"
   ]
  },
  {
   "cell_type": "code",
   "execution_count": 49,
   "metadata": {
    "collapsed": true
   },
   "outputs": [],
   "source": [
    "tab1.to_csv('tableau_cash_sans_macro.csv')"
   ]
  },
  {
   "cell_type": "code",
   "execution_count": 50,
   "metadata": {
    "collapsed": true
   },
   "outputs": [],
   "source": [
    "cols = tab2.columns\n",
    "cols = ['cash', 'acheté', 'vendu', 'VL', 'Cours', 'pos_entree', 'pos_sortie']\n",
    "tab2 = tab2[cols]"
   ]
  },
  {
   "cell_type": "code",
   "execution_count": 51,
   "metadata": {
    "collapsed": true
   },
   "outputs": [],
   "source": [
    "tab2.to_csv('tableau_cash_avec_macro.csv')"
   ]
  },
  {
   "cell_type": "markdown",
   "metadata": {
    "collapsed": true
   },
   "source": [
    "# Sortie des tableaux de position"
   ]
  },
  {
   "cell_type": "markdown",
   "metadata": {},
   "source": [
    "## a) Tableau avec macro"
   ]
  },
  {
   "cell_type": "code",
   "execution_count": 54,
   "metadata": {
    "collapsed": true
   },
   "outputs": [],
   "source": [
    "a,b,c=meme_taille(signal,strategiemacd(5,27,1),williams(17, -46, -91))\n",
    "tableau_avec_macro = strategie_final(a,b,c)"
   ]
  },
  {
   "cell_type": "code",
   "execution_count": 55,
   "metadata": {
    "collapsed": true
   },
   "outputs": [],
   "source": [
    "tableau_avec_macro.to_csv('tableau_signaux_avec_macro.csv')"
   ]
  },
  {
   "cell_type": "markdown",
   "metadata": {},
   "source": [
    "## b) Tableau sans macro"
   ]
  },
  {
   "cell_type": "code",
   "execution_count": 56,
   "metadata": {
    "collapsed": true
   },
   "outputs": [],
   "source": [
    "a,b,c=meme_taille(signal,strategiemacd(19,29,3),williams(20, -4, -51))\n",
    "tableau_sans_macro = strategie_final_sans_macro(a,b,c)"
   ]
  },
  {
   "cell_type": "code",
   "execution_count": 57,
   "metadata": {
    "collapsed": true
   },
   "outputs": [],
   "source": [
    "tableau_sans_macro.to_csv('tableau_signaux_sans_macro.csv')"
   ]
  },
  {
   "cell_type": "code",
   "execution_count": null,
   "metadata": {
    "collapsed": true
   },
   "outputs": [],
   "source": []
  }
 ],
 "metadata": {
  "kernelspec": {
   "display_name": "Python 3",
   "language": "python",
   "name": "python3"
  },
  "language_info": {
   "codemirror_mode": {
    "name": "ipython",
    "version": 3
   },
   "file_extension": ".py",
   "mimetype": "text/x-python",
   "name": "python",
   "nbconvert_exporter": "python",
   "pygments_lexer": "ipython3",
   "version": "3.6.5"
  }
 },
 "nbformat": 4,
 "nbformat_minor": 2
}
